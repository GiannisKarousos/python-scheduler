{
 "cells": [
  {
   "cell_type": "code",
   "execution_count": 1,
   "id": "6954d30f",
   "metadata": {},
   "outputs": [],
   "source": [
    "from apscheduler.schedulers.blocking import BlockingScheduler\n",
    "from apscheduler.triggers.cron import CronTrigger"
   ]
  },
  {
   "cell_type": "code",
   "execution_count": 2,
   "id": "7056069a",
   "metadata": {},
   "outputs": [],
   "source": [
    "def main():\n",
    "        \n",
    "    def start_gs(arg):\n",
    "\n",
    "        global country_code \n",
    "        country_code = arg\n",
    "\n",
    "        %run \"fetch_data.ipynb\" \n",
    "        %run \"gs_stage1.ipynb\" \n",
    "        %run \"gs_stage2.ipynb\"\n",
    "        %run \"jira_stage.ipynb\"\n",
    "    \n",
    "    scheduler = BlockingScheduler()\n",
    "\n",
    "    scheduler.add_job(start_gs, 'cron', args=['nl'], hour=10, minute=12)\n",
    "\n",
    "    scheduler.start()"
   ]
  },
  {
   "cell_type": "code",
   "execution_count": 3,
   "id": "5d142a9c",
   "metadata": {},
   "outputs": [],
   "source": [
    "if __name__ == \"__main__\":\n",
    "    main()"
   ]
  },
  {
   "attachments": {},
   "cell_type": "markdown",
   "id": "0b7678ee",
   "metadata": {},
   "source": []
  }
 ],
 "metadata": {
  "kernelspec": {
   "display_name": "Python 3 (ipykernel)",
   "language": "python",
   "name": "python3"
  },
  "language_info": {
   "codemirror_mode": {
    "name": "ipython",
    "version": 3
   },
   "file_extension": ".py",
   "mimetype": "text/x-python",
   "name": "python",
   "nbconvert_exporter": "python",
   "pygments_lexer": "ipython3",
   "version": "3.11.3"
  }
 },
 "nbformat": 4,
 "nbformat_minor": 5
}
